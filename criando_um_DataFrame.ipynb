{
  "nbformat": 4,
  "nbformat_minor": 0,
  "metadata": {
    "colab": {
      "name": "criando_um_DataFrame",
      "provenance": [],
      "collapsed_sections": []
    },
    "kernelspec": {
      "name": "python3",
      "display_name": "Python 3"
    }
  },
  "cells": [
    {
      "cell_type": "markdown",
      "metadata": {
        "id": "n3-A6377bifk",
        "colab_type": "text"
      },
      "source": [
        "Vamos aprender a criar um dicíonario com pandas para amazenar as notas dos alunos 'Maria','Jose', 'Witoria' e depois armazena-lo em um DataFrame. Primeiro temos que importar a biblioteca pandas para criar o nosso dataframe.\n",
        "Lembrando que cada chave será uma coluna do DataFrame."
      ]
    },
    {
      "cell_type": "code",
      "metadata": {
        "id": "4ZIEQqbWa7h1",
        "colab_type": "code",
        "colab": {}
      },
      "source": [
        "import pandas as pd"
      ],
      "execution_count": null,
      "outputs": []
    },
    {
      "cell_type": "code",
      "metadata": {
        "id": "sOyAnpxVb4W3",
        "colab_type": "code",
        "colab": {}
      },
      "source": [
        "# Criando um dicionário onde cada chave será uma coluna do DataFrame\n",
        "dicionario = {\n",
        "'Alunos':    ['Maria', 'Jose', 'Witoria'],\n",
        "'Historia':  [8, 9 ,10],\n",
        "'Geografia': [10, 9, 7]\n",
        "}"
      ],
      "execution_count": null,
      "outputs": []
    },
    {
      "cell_type": "code",
      "metadata": {
        "id": "Q-R_gMDFdWIY",
        "colab_type": "code",
        "colab": {}
      },
      "source": [
        "#Criando o DataFrame\n",
        "df = pd.DataFrame(dicionario, columns=['Alunos','Historia','Geografia'])"
      ],
      "execution_count": null,
      "outputs": []
    },
    {
      "cell_type": "code",
      "metadata": {
        "id": "VLfgyRJhdihC",
        "colab_type": "code",
        "colab": {
          "base_uri": "https://localhost:8080/",
          "height": 142
        },
        "outputId": "e6dc9a63-39a0-4ecd-c3d9-3019a7bf6605"
      },
      "source": [
        "# visualizando o DataFrame\n",
        "df"
      ],
      "execution_count": null,
      "outputs": [
        {
          "output_type": "execute_result",
          "data": {
            "text/html": [
              "<div>\n",
              "<style scoped>\n",
              "    .dataframe tbody tr th:only-of-type {\n",
              "        vertical-align: middle;\n",
              "    }\n",
              "\n",
              "    .dataframe tbody tr th {\n",
              "        vertical-align: top;\n",
              "    }\n",
              "\n",
              "    .dataframe thead th {\n",
              "        text-align: right;\n",
              "    }\n",
              "</style>\n",
              "<table border=\"1\" class=\"dataframe\">\n",
              "  <thead>\n",
              "    <tr style=\"text-align: right;\">\n",
              "      <th></th>\n",
              "      <th>Alunos</th>\n",
              "      <th>Historia</th>\n",
              "      <th>Geografia</th>\n",
              "    </tr>\n",
              "  </thead>\n",
              "  <tbody>\n",
              "    <tr>\n",
              "      <th>0</th>\n",
              "      <td>Maria</td>\n",
              "      <td>8</td>\n",
              "      <td>10</td>\n",
              "    </tr>\n",
              "    <tr>\n",
              "      <th>1</th>\n",
              "      <td>Jose</td>\n",
              "      <td>9</td>\n",
              "      <td>9</td>\n",
              "    </tr>\n",
              "    <tr>\n",
              "      <th>2</th>\n",
              "      <td>Witoria</td>\n",
              "      <td>10</td>\n",
              "      <td>7</td>\n",
              "    </tr>\n",
              "  </tbody>\n",
              "</table>\n",
              "</div>"
            ],
            "text/plain": [
              "    Alunos  Historia  Geografia\n",
              "0    Maria         8         10\n",
              "1     Jose         9          9\n",
              "2  Witoria        10          7"
            ]
          },
          "metadata": {
            "tags": []
          },
          "execution_count": 5
        }
      ]
    },
    {
      "cell_type": "markdown",
      "metadata": {
        "id": "2liVwNb4d9Sm",
        "colab_type": "text"
      },
      "source": [
        "Pronto acabamos de criar um DataFrame para armazenar as notas dos alunos."
      ]
    }
  ]
}